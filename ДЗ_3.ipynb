{
  "nbformat": 4,
  "nbformat_minor": 0,
  "metadata": {
    "colab": {
      "provenance": []
    },
    "kernelspec": {
      "name": "python3",
      "display_name": "Python 3"
    },
    "language_info": {
      "name": "python"
    }
  },
  "cells": [
    {
      "cell_type": "markdown",
      "source": [
        "Сумма цифр заданного числа."
      ],
      "metadata": {
        "id": "NSumyaNaplNC"
      }
    },
    {
      "cell_type": "code",
      "execution_count": 10,
      "metadata": {
        "colab": {
          "base_uri": "https://localhost:8080/"
        },
        "id": "Kpx0HPBtpgCN",
        "outputId": "29013a58-13dd-4ff0-ebf7-ce207368da86"
      },
      "outputs": [
        {
          "output_type": "stream",
          "name": "stdout",
          "text": [
            "151\n",
            "7\n"
          ]
        }
      ],
      "source": [
        "a = int(input())\n",
        "b = 0\n",
        "while a > 0:\n",
        "  c = a % 10\n",
        "  b += c\n",
        "  a //= 10\n",
        "print(b)"
      ]
    },
    {
      "cell_type": "markdown",
      "source": [
        "Результат умножения чисел от 1 до n.\n"
      ],
      "metadata": {
        "id": "r_L7jvADsv0_"
      }
    },
    {
      "cell_type": "code",
      "source": [
        "n = int(input())\n",
        "a = 1\n",
        "for i in range(1, n+1):\n",
        "   a *= i\n",
        "print(a)"
      ],
      "metadata": {
        "colab": {
          "base_uri": "https://localhost:8080/"
        },
        "id": "Vx_Yqh-zs5QW",
        "outputId": "07ed6540-706d-44b0-9f6d-7dbf40c825b0"
      },
      "execution_count": 22,
      "outputs": [
        {
          "output_type": "stream",
          "name": "stdout",
          "text": [
            "6\n",
            "720\n"
          ]
        }
      ]
    },
    {
      "cell_type": "markdown",
      "source": [
        "Числа, кратные семи до числа n."
      ],
      "metadata": {
        "id": "vQw3aIoGwWmZ"
      }
    },
    {
      "cell_type": "code",
      "source": [
        "n = int(input())\n",
        "for i in range (n+1):\n",
        "  if i % 7 == 0:\n",
        "    print(i)"
      ],
      "metadata": {
        "colab": {
          "base_uri": "https://localhost:8080/"
        },
        "id": "EY_ew_n7wcnZ",
        "outputId": "1f62a5f7-0458-44a3-eff3-66abb3dcb61d"
      },
      "execution_count": 57,
      "outputs": [
        {
          "output_type": "stream",
          "name": "stdout",
          "text": [
            "30\n",
            "0\n",
            "7\n",
            "14\n",
            "21\n",
            "28\n"
          ]
        }
      ]
    }
  ]
}