{
  "nbformat": 4,
  "nbformat_minor": 0,
  "metadata": {
    "colab": {
      "provenance": []
    },
    "kernelspec": {
      "name": "python3",
      "display_name": "Python 3"
    },
    "language_info": {
      "name": "python"
    }
  },
  "cells": [
    {
      "cell_type": "markdown",
      "source": [
        "Чётное/Нечётное"
      ],
      "metadata": {
        "id": "DhrKOLal3ySi"
      }
    },
    {
      "cell_type": "code",
      "source": [
        "a = int(input())\n",
        "n = 2\n",
        "if (a % n) > 0:\n",
        "  print(\"Это число не является чётным\")\n",
        "else:\n",
        "  print(\"Это число чётное\")"
      ],
      "metadata": {
        "colab": {
          "base_uri": "https://localhost:8080/"
        },
        "id": "6mOureJi30M8",
        "outputId": "273053e0-1f6e-4fe6-fb3f-478e1758701a"
      },
      "execution_count": 8,
      "outputs": [
        {
          "output_type": "stream",
          "name": "stdout",
          "text": [
            "-13\n",
            "Это число не является чётным\n"
          ]
        }
      ]
    },
    {
      "cell_type": "markdown",
      "source": [
        "Большее из двух чисел"
      ],
      "metadata": {
        "id": "YbHV0t0941XY"
      }
    },
    {
      "cell_type": "code",
      "source": [
        "a = int(input())\n",
        "b = int(input())\n",
        "if a > b:\n",
        "  print(a)\n",
        "else:\n",
        "  print(b)"
      ],
      "metadata": {
        "colab": {
          "base_uri": "https://localhost:8080/"
        },
        "id": "2lOAVoeq5CEG",
        "outputId": "76964af5-11bb-400d-825e-5ceff04ffb25"
      },
      "execution_count": 10,
      "outputs": [
        {
          "output_type": "stream",
          "name": "stdout",
          "text": [
            "19322\n",
            "3213\n",
            "19322\n"
          ]
        }
      ]
    },
    {
      "cell_type": "markdown",
      "source": [
        "Клетка шахматного поля"
      ],
      "metadata": {
        "id": "zz0_nGgz6KRx"
      }
    },
    {
      "cell_type": "code",
      "source": [
        "x = int(input(\"Координата X: \"))\n",
        "y = int(input(\"Координата Y: \"))\n",
        "if (x + y) % 2 == 1:\n",
        "  print(\"YES\")\n",
        "else:\n",
        "  print(\"NO\")"
      ],
      "metadata": {
        "colab": {
          "base_uri": "https://localhost:8080/"
        },
        "id": "OJvq9p2a6Qe9",
        "outputId": "6dcb4932-ba6a-471b-e8ff-5f9c1982e30d"
      },
      "execution_count": 20,
      "outputs": [
        {
          "output_type": "stream",
          "name": "stdout",
          "text": [
            "Координата X: 4\n",
            "Координата Y: 6\n",
            "NO\n"
          ]
        }
      ]
    }
  ]
}