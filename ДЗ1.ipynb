{
  "nbformat": 4,
  "nbformat_minor": 0,
  "metadata": {
    "colab": {
      "provenance": []
    },
    "kernelspec": {
      "name": "python3",
      "display_name": "Python 3"
    },
    "language_info": {
      "name": "python"
    }
  },
  "cells": [
    {
      "cell_type": "markdown",
      "source": [
        "Округляет число до заданного количества знаков после запятой."
      ],
      "metadata": {
        "id": "7bSnZMUSsDuS"
      }
    },
    {
      "cell_type": "code",
      "source": [
        "a = float(input())\n",
        "b = int(input())\n",
        "print(round(a, b))"
      ],
      "metadata": {
        "colab": {
          "base_uri": "https://localhost:8080/"
        },
        "id": "Cxj1vBr2sN7s",
        "outputId": "ebfbf236-df94-4195-f42d-9befa6e66650"
      },
      "execution_count": 13,
      "outputs": [
        {
          "output_type": "stream",
          "name": "stdout",
          "text": [
            "5.44324234233\n",
            "6\n",
            "5.443242\n"
          ]
        }
      ]
    },
    {
      "cell_type": "markdown",
      "source": [
        "Программа, которая находит среднее арифметическое двух чисел и округляет его до целого числа.\n"
      ],
      "metadata": {
        "id": "Jbhfyhl4tnz9"
      }
    },
    {
      "cell_type": "code",
      "source": [
        "a = int(input())\n",
        "b = int(input())\n",
        "n = 2\n",
        "summa = a + b\n",
        "res = summa / n\n",
        "print(round(res))"
      ],
      "metadata": {
        "colab": {
          "base_uri": "https://localhost:8080/"
        },
        "id": "_Nk-pNZVtzI2",
        "outputId": "d37afb5e-7cbe-4c28-80c8-09a58ed9a9cc"
      },
      "execution_count": 16,
      "outputs": [
        {
          "output_type": "stream",
          "name": "stdout",
          "text": [
            "4\n",
            "10\n",
            "7\n"
          ]
        }
      ]
    }
  ]
}